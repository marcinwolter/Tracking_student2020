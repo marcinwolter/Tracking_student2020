{
  "nbformat": 4,
  "nbformat_minor": 0,
  "metadata": {
    "colab": {
      "name": "Fit_with_errors_stereo.ipynb",
      "provenance": [],
      "collapsed_sections": [],
      "authorship_tag": "ABX9TyPct0LMEin8TjHBCholYHxk",
      "include_colab_link": true
    },
    "kernelspec": {
      "name": "python3",
      "display_name": "Python 3"
    }
  },
  "cells": [
    {
      "cell_type": "markdown",
      "metadata": {
        "id": "view-in-github",
        "colab_type": "text"
      },
      "source": [
        "<a href=\"https://colab.research.google.com/github/marcinwolter/Tracking_student2020/blob/master/Fit_with_errors_stereo.ipynb\" target=\"_parent\"><img src=\"https://colab.research.google.com/assets/colab-badge.svg\" alt=\"Open In Colab\"/></a>"
      ]
    },
    {
      "cell_type": "markdown",
      "metadata": {
        "id": "J_tqRys4UhoC",
        "colab_type": "text"
      },
      "source": [
        "# **Example of fit with stereo layers performed in few steps:**\n",
        "\n",
        "**IMPORTANT: fit for just ONE track**\n",
        "\n",
        "1.   Perform a fit in x-z projection followed by a robust fit dropping one hit at maximum\n",
        "2.   Repeat the same for y-z projection\n",
        "3.   Find the distance from the stereo hits to the fitted line - drop the stereo hits which are far from track\n",
        "4.   Perform a fit in 3d using all hits  \n",
        "\n",
        "\n",
        "\n",
        "\n",
        "\n"
      ]
    },
    {
      "cell_type": "code",
      "metadata": {
        "id": "IpibwDHiq8zA",
        "colab_type": "code",
        "colab": {
          "base_uri": "https://localhost:8080/",
          "height": 642
        },
        "outputId": "eca7ac67-a544-4cfd-d85e-c8ce9a4ca9b7"
      },
      "source": [
        "import numpy as np\n",
        "#from numpy import *\n",
        "import pylab\n",
        "from scipy.optimize import curve_fit, least_squares, leastsq\n",
        "from scipy import stats\n",
        "\n",
        "# get data\n",
        "! rm -fr cool_stereo.dat\n",
        "! wget  https://raw.githubusercontent.com/marcinwolter/Tracking_student2020/master/cool_stereo.dat\n",
        "! cat cool_stereo.dat\n",
        "fn = 'cool_stereo.dat'\n",
        "\n",
        "\n",
        "z_all, y_all, yerr_all, xtype = np.loadtxt(fn,unpack=True, usecols=[0,1,2,3])\n",
        "\n",
        "#yerr *= 1.\n",
        "\n",
        "\n",
        "# select projections\n",
        "#x-z - projection\n",
        "z_0 = []\n",
        "y_0 = []\n",
        "yerr_0 = []\n",
        "#y-z - projection\n",
        "z_1 = []\n",
        "y_1 = []\n",
        "yerr_1 = []\n",
        "#stereo projection u\n",
        "z_2 = []\n",
        "y_2 = []\n",
        "yerr_2 = []\n",
        "#stereo projection p\n",
        "z_3 = []\n",
        "y_3 = []\n",
        "yerr_3 = []\n",
        "\n",
        "# create vectors for x-z, y-z, and stereo u and stereo p projections\n",
        "for k in range(len(z_all)):\n",
        "  if xtype[k]==0:\n",
        "    z_0.append(z_all[k])\n",
        "    y_0.append(y_all[k])\n",
        "    yerr_0.append(yerr_all[k])\n",
        "  if xtype[k]==1:\n",
        "    z_1.append(z_all[k])\n",
        "    y_1.append(y_all[k])\n",
        "    yerr_1.append(yerr_all[k])\n",
        "  if xtype[k]==2:\n",
        "    z_2.append(z_all[k])\n",
        "    y_2.append(y_all[k])\n",
        "    yerr_2.append(yerr_all[k])\n",
        "  if xtype[k]==3:\n",
        "    z_3.append(z_all[k])\n",
        "    y_3.append(y_all[k])\n",
        "    yerr_3.append(yerr_all[k])\n",
        "  \n",
        " \n",
        "#print(z_0)\n",
        "#print(z_1)\n",
        "#print(z_2)\n",
        "#print(z_3)"
      ],
      "execution_count": 1,
      "outputs": [
        {
          "output_type": "stream",
          "text": [
            "--2020-07-27 10:57:39--  https://raw.githubusercontent.com/marcinwolter/Tracking_student2020/master/cool_stereo.dat\n",
            "Resolving raw.githubusercontent.com (raw.githubusercontent.com)... 151.101.0.133, 151.101.64.133, 151.101.128.133, ...\n",
            "Connecting to raw.githubusercontent.com (raw.githubusercontent.com)|151.101.0.133|:443... connected.\n",
            "HTTP request sent, awaiting response... 200 OK\n",
            "Length: 408 [text/plain]\n",
            "Saving to: ‘cool_stereo.dat’\n",
            "\n",
            "\rcool_stereo.dat       0%[                    ]       0  --.-KB/s               \rcool_stereo.dat     100%[===================>]     408  --.-KB/s    in 0s      \n",
            "\n",
            "2020-07-27 10:57:39 (19.4 MB/s) - ‘cool_stereo.dat’ saved [408/408]\n",
            "\n",
            " 0 0  0.75     0\n",
            " 1 0.5  .25    0\n",
            " 2 2.1  .25    0\n",
            " 3 3.7  0.5    0\n",
            " 4 4.2  0.75   0\n",
            " 5 4.6  .25    0\n",
            " 7 7.1  .5     0\n",
            " 3.5 9.5  0.1  0\n",
            " 6 6.6  0.1    0\n",
            " 0 0  0.99     1\n",
            " 1 0.5  .75    1\n",
            " 2 2.1  .75    1\n",
            " 3 3.7  0.9    1\n",
            " 4 4.2  0.75   1\n",
            " 5 4.6  .55    1\n",
            " 7 7.1  .9     1\n",
            " 3.5 9.5  0.3  1\n",
            " 6 6.6  0.3    1\n",
            " 1 0.1 0.1    2\n",
            " 1 2.5  0.6    2\n",
            " 1 0.1 0.1    3\n",
            " 1 1.5  0.1    3\n",
            " 5 5.2  0.1    2\n",
            " 5 7.6  0.1    3\n",
            " \n"
          ],
          "name": "stdout"
        }
      ]
    },
    {
      "cell_type": "code",
      "metadata": {
        "id": "KgXCKrlos1Vq",
        "colab_type": "code",
        "colab": {
          "base_uri": "https://localhost:8080/",
          "height": 34
        },
        "outputId": "ef1bea0c-994c-4984-c05b-1c4738bfe95a"
      },
      "source": [
        "\n",
        "## FIT ##\n",
        "print('Fit with f(x)=ax+b')\n",
        "def fit(x,a,b): \n",
        "     return a*np.asarray(x)+b\n",
        "\n",
        "def chi2(x,y,yerr,fit,popt):\n",
        "  # Now calculate chi square \n",
        "  yexp = fit(x, *popt)\n",
        "  r = (y - yexp)/yerr\n",
        "  chisq = np.sum(r**2)\n",
        "  df = len(x) - 2\n",
        "  return chisq, df, r\n"
      ],
      "execution_count": 2,
      "outputs": [
        {
          "output_type": "stream",
          "text": [
            "Fit with f(x)=ax+b\n"
          ],
          "name": "stdout"
        }
      ]
    },
    {
      "cell_type": "code",
      "metadata": {
        "id": "uNx6Bt2jmaEN",
        "colab_type": "code",
        "colab": {}
      },
      "source": [
        "def fit1d_simple(fit, x, y, yerr):\n",
        "\n",
        "  popt,pcov=curve_fit(fit,x,y,p0=(0.0,0.0),sigma=yerr, absolute_sigma=True) \n",
        "  #The argument absolute_sigma=True is necessary. It says the values in sig are all literally the standard deviations and not \n",
        "  #just relative weights for the data points. With this option the resulting chi square can be used to determine goodness of fit.\n",
        "\n",
        "  a=popt[0]; err_a=np.sqrt(pcov[0,0])\n",
        "  b=popt[1]; err_b=np.sqrt(pcov[1,1])\n",
        "\n",
        "  chisq, df, r = chi2(x,y,yerr,fit,popt)\n",
        "\n",
        "  return a, b, err_a, err_b, chisq, df, r, x, y, yerr"
      ],
      "execution_count": 3,
      "outputs": []
    },
    {
      "cell_type": "code",
      "metadata": {
        "id": "jQOKl87Rm4rB",
        "colab_type": "code",
        "colab": {}
      },
      "source": [
        "def fit1d_robust(fit, x, y, yerr):\n",
        "  # Hand-made robust fit - drop one single outlier\n",
        "\n",
        "  a, b, err_a, err_b, chisq, df, r, x, y, yerr = fit1d_simple(fit, x, y, yerr)\n",
        "  # check chiqq/ndf\n",
        "  chisq_limit = 4. # this is an arbitrary parameter, should be tuned\n",
        "  if chisq/df>chisq_limit:\n",
        "\n",
        "    # Find outlier and remove it\n",
        "    # find point with the highest abs(r)\n",
        "    ii = np.where(r == np.amax(abs(r)))[0]\n",
        "    #ii = ii[0] \n",
        "    x_robust = np.delete(x,ii)\n",
        "    y_robust = np.delete(y,ii)\n",
        "    yerr_robust = np.delete(yerr,ii)\n",
        "    # repeat fit without outlier\n",
        "    popt,pcov=curve_fit(fit,x_robust,y_robust,p0=(0.0,0.0),sigma=yerr_robust, absolute_sigma=True)\n",
        "\n",
        "  a=popt[0]; err_a=np.sqrt(pcov[0,0])\n",
        "  b=popt[1]; err_b=np.sqrt(pcov[1,1])\n",
        "\n",
        "  chisq, df, r = chi2(x_robust,y_robust,yerr_robust,fit,popt)\n",
        "  \n",
        "  return a, b, err_a, err_b, chisq, df, r, x_robust, y_robust, yerr_robust"
      ],
      "execution_count": 4,
      "outputs": []
    },
    {
      "cell_type": "code",
      "metadata": {
        "id": "sPxnJUKyvyxi",
        "colab_type": "code",
        "colab": {}
      },
      "source": [
        "# plot fit results\n",
        "def fit_plot(a, b, err_a, err_b, chisq, df, x, y, yerr):\n",
        "\n",
        "  print(\" \")\n",
        "  print('a=',a,\"+/-\",err_a)\n",
        "  print('b=',b,\"+/-\",err_b)\n",
        "  print(\"chisq =\",chisq,\"ndf =\",df)\n",
        "  print(\"chisq/ndf =\",chisq/df)\n",
        "  \n",
        "  popt = [a, b]\n",
        "  pn = np.poly1d(popt)\n",
        "\n",
        "  # plot data and fit\n",
        "  xx = np.linspace(min(x), max(x), 500)\n",
        "  pylab.plot(xx, pn(xx),'-g')\n",
        "  xerr = [0]*len(yerr)\n",
        "\n",
        "  margx = 0.2*(max(x)-min(x))\n",
        "  margy = 3.*max(yerr)\n",
        "  pylab.axis([min(x)-margx,max(x)+margx,min(y)-margy,max(y)+margy])\n",
        "  pylab.errorbar(x, y, yerr, xerr, fmt='r.')\n",
        "\n",
        "  # customise graph\n",
        "  pylab.legend(['linear','data'])\n",
        "\n",
        "  pylab.xlabel('x label (unit)')\n",
        "  pylab.ylabel('y label (unit)')\n",
        "\n",
        "  pylab.show()"
      ],
      "execution_count": 5,
      "outputs": []
    },
    {
      "cell_type": "code",
      "metadata": {
        "id": "C7DfL3Peqzp-",
        "colab_type": "code",
        "colab": {
          "base_uri": "https://localhost:8080/",
          "height": 718
        },
        "outputId": "c91069d0-3d6d-4329-96dd-9bba7d74c453"
      },
      "source": [
        "\n",
        "# Fit the x-z projection\n",
        "\n",
        "# perform the 1d robust fit\n",
        "a0, b0, err_a0, err_b0, chisq0, df0, r0, z_robust0, y_robust0, yerr_robust0 = fit1d_robust(fit, z_0, y_0, yerr_0)\n",
        "\n",
        "# plot results\n",
        "fit_plot(a0, b0, err_a0, err_b0, chisq0, df0, z_robust0, y_robust0, yerr_robust0)\n",
        "\n",
        "# Fit the y-z projection\n",
        "\n",
        "# perform the 1d robust fit\n",
        "a1, b1, err_a1, err_b1, chisq1, df1, r1, z_robust1, y_robust1, yerr_robust1 = fit1d_robust(fit, z_1, y_1, yerr_1)\n",
        "\n",
        "# plot results\n",
        "fit_plot(a1, b1, err_a1, err_b1, chisq1, df1, z_robust1, y_robust1, yerr_robust1)"
      ],
      "execution_count": 6,
      "outputs": [
        {
          "output_type": "stream",
          "text": [
            " \n",
            "a= 1.1552252302451387 +/- 0.0417028048356912\n",
            "b= -0.4359688064108322 +/- 0.21750857929013975\n",
            "chisq = 14.790868323938867 ndf = 6\n",
            "chisq/ndf = 2.4651447206564776\n"
          ],
          "name": "stdout"
        },
        {
          "output_type": "display_data",
          "data": {
            "image/png": "[encoded data removed]",
            "text/plain": [
              "<Figure size 432x288 with 1 Axes>"
            ]
          },
          "metadata": {
            "tags": [],
            "needs_background": "light"
          }
        },
        {
          "output_type": "stream",
          "text": [
            " \n",
            "a= 1.1109373255575838 +/- 0.10551763463243947\n",
            "b= -0.25831671892722147 +/- 0.5323752509346141\n",
            "chisq = 3.0372391371203746 ndf = 6\n",
            "chisq/ndf = 0.5062065228533957\n"
          ],
          "name": "stdout"
        },
        {
          "output_type": "display_data",
          "data": {
            "image/png": "[encoded data removed]",
            "text/plain": [
              "<Figure size 432x288 with 1 Axes>"
            ]
          },
          "metadata": {
            "tags": [],
            "needs_background": "light"
          }
        }
      ]
    },
    {
      "cell_type": "code",
      "metadata": {
        "id": "bvM-dQ4WcdOE",
        "colab_type": "code",
        "colab": {}
      },
      "source": [
        "def distance_calc(a0, b0, a1, b1, z, y, stereo_angle):\n",
        "   # calculate distance of stereo hit to track\n",
        "   # track coordinates in x-y plane at z of the stereo hit\n",
        "   x0 = a0*z+b0\n",
        "   y0 = a1*z+b1\n",
        "   #distance from track (point) to stereo strip fired (line)\n",
        "   # x0* cos(alpha)+y0*sin(alpha)  + y     where alpha - stereo layer angle\n",
        "   dist = x0*np.cos(stereo_angle) + y0*np.sin(stereo_angle)  - y\n",
        "\n",
        "   #print(x0,y0)\n",
        "   #print(y0*np.cos(stereo_angle), y0*np.sin(stereo_angle))\n",
        "   return abs(dist)\n",
        "\n"
      ],
      "execution_count": 7,
      "outputs": []
    },
    {
      "cell_type": "code",
      "metadata": {
        "id": "rsyfSIcehaCm",
        "colab_type": "code",
        "colab": {
          "base_uri": "https://localhost:8080/",
          "height": 34
        },
        "outputId": "66482148-8881-42ee-c7da-805acb207398"
      },
      "source": [
        "# distance of stereo to track\n",
        "# and find stereos whic are closer than 5*error to the track\n",
        "\n",
        "# IMPORTANT: here we have just one track, we should make combinatorics with two tracks\n",
        "\n",
        "# stereo 2 - angle = np.pi/4.\n",
        "stereo_2 = -np.pi/4.\n",
        "\n",
        "z_robust2=[]\n",
        "y_robust2=[]\n",
        "yerr_robust2=[]\n",
        "for k in range(len(z_2)):\n",
        "  dist = distance_calc(a0, b0, a1, b1, z_2[k], y_2[k], stereo_2)\n",
        "  #print(dist,yerr_3[k])\n",
        "  if dist< 5.*yerr_2[k]:\n",
        "    #print(\"adding \",dist)\n",
        "    z_robust2.append(z_2[k])\n",
        "    y_robust2.append(y_2[k])\n",
        "    yerr_robust2.append(yerr_2[k])\n",
        "\n",
        "stereo_3 = np.pi/4.\n",
        "\n",
        "z_robust3=[]\n",
        "y_robust3=[]\n",
        "yerr_robust3=[]\n",
        "for k in range(len(z_3)):\n",
        "  dist = distance_calc(a0, b0, a1, b1, z_3[k], y_3[k], stereo_3)\n",
        "  #print(dist,yerr_3[k])\n",
        "  if dist< 5.*yerr_3[k]:  # tolerance of 5*error is arbitrary\n",
        "    #print(\"adding \",dist)\n",
        "    z_robust3.append(z_3[k])\n",
        "    y_robust3.append(y_3[k])\n",
        "    yerr_robust3.append(yerr_3[k])\n",
        "\n",
        "print(\"Stereo hits added with 2 orientation: \",len(z_robust2),\" and with 3 orientation: \",len(z_robust3) )\n"
      ],
      "execution_count": 8,
      "outputs": [
        {
          "output_type": "stream",
          "text": [
            "Stereo hits added with 2 orientation:  2  and with 3 orientation:  2\n"
          ],
          "name": "stdout"
        }
      ]
    },
    {
      "cell_type": "code",
      "metadata": {
        "id": "g-sBG1Z9xHz1",
        "colab_type": "code",
        "colab": {}
      },
      "source": [
        "def chisq3d(args):\n",
        "  # total chi-square\n",
        "  a0, b0, a1, b1 = args\n",
        "\n",
        "  chisq = 0\n",
        "\n",
        "  # x-z component\n",
        "  for k in range(len(z_robust0)):\n",
        "    chisq += ( (a0*z_robust0[k]+b0 - y_robust0[k])/yerr_robust0[k] )**2\n",
        "  # y-z component\n",
        "  for k in range(len(z_robust1)):\n",
        "    chisq += ( (a1*z_robust1[k]+b1 - y_robust1[k])/yerr_robust1[k] )**2\n",
        "\n",
        "  \n",
        "  # stereo fits \"2\"  \n",
        "  for k in range(len(z_robust2)):\n",
        "    chisq += ( distance_calc(a0, b0, a1, b1, z_robust2[k], y_robust2[k], stereo_2)/yerr_robust2[k] )**2\n",
        "  # stereo fits \"3\"  \n",
        "  for k in range(len(z_robust3)):\n",
        "    chisq += ( distance_calc(a0, b0, a1, b1, z_robust3[k], y_robust3[k], stereo_3)/yerr_robust3[k] )**2\n",
        "  \n",
        "  return chisq  \n"
      ],
      "execution_count": 9,
      "outputs": []
    },
    {
      "cell_type": "code",
      "metadata": {
        "id": "rsoN3URa4DhL",
        "colab_type": "code",
        "colab": {}
      },
      "source": [
        "def chisq3d_nostereo(args):\n",
        "  # total chi-square but with no stereo layers\n",
        "  a0, b0, a1, b1 = args\n",
        "\n",
        "  chisq = 0\n",
        "\n",
        "  # x-z component\n",
        "  for k in range(len(z_robust0)):\n",
        "    chisq += ( (a0*z_robust0[k]+b0 - y_robust0[k])/yerr_robust0[k] )**2\n",
        "  # y-z component\n",
        "  for k in range(len(z_robust1)):\n",
        "    chisq += ( (a1*z_robust1[k]+b1 - y_robust1[k])/yerr_robust1[k] )**2\n",
        "\n",
        "  '''\n",
        "  # stereo fits \"2\"  \n",
        "  for k in range(len(z_robust2)):\n",
        "    chisq += ( distance_calc(a0, b0, a1, b1, z_robust2[k], y_robust2[k], stereo_2)/yerr_robust2[k] )**2\n",
        "  # stereo fits \"3\"  \n",
        "  for k in range(len(z_robust3)):\n",
        "    chisq += ( distance_calc(a0, b0, a1, b1, z_robust3[k], y_robust3[k], stereo_3)/yerr_robust3[k] )**2\n",
        "  '''\n",
        "\n",
        "  return chisq  \n"
      ],
      "execution_count": 10,
      "outputs": []
    },
    {
      "cell_type": "code",
      "metadata": {
        "colab_type": "code",
        "id": "5j4uJa8MGb8k",
        "colab": {}
      },
      "source": [
        "def chisq2d(args):\n",
        "  # total chi-square for x-z projection only: so its 2d\n",
        "  a0, b0 = args\n",
        "\n",
        "  chisq = 0\n",
        "\n",
        "  # x-z component\n",
        "  for k in range(len(z_robust0)):\n",
        "    chisq += ( (a0*z_robust0[k]+b0 - y_robust0[k])/yerr_robust0[k] )**2\n",
        " \n",
        "  \n",
        "  return chisq  \n"
      ],
      "execution_count": 11,
      "outputs": []
    },
    {
      "cell_type": "code",
      "metadata": {
        "colab_type": "code",
        "id": "tw8SsV8DJQg9",
        "colab": {}
      },
      "source": [
        "def fun3d(args):\n",
        "  # calculate a list of differences to be minimized by np.leastsq\n",
        "  a0, b0, a1, b1 = args\n",
        "\n",
        "  fun=[]\n",
        "\n",
        "  # x-z component\n",
        "  for k in range(len(z_robust0)):\n",
        "    fun.append((a0*z_robust0[k]+b0 - y_robust0[k])/yerr_robust0[k] )\n",
        "  \n",
        "  # y-z component\n",
        "  for k in range(len(z_robust1)):\n",
        "    fun.append( (a1*z_robust1[k]+b1 - y_robust1[k])/yerr_robust1[k] )\n",
        "  \n",
        "  \n",
        "  # stereo fits \"2\"  \n",
        "  for k in range(len(z_robust2)):\n",
        "    fun.append( distance_calc(a0, b0, a1, b1, z_robust2[k], y_robust2[k], stereo_2)/yerr_robust2[k] )\n",
        "  # stereo fits \"3\"  \n",
        "  for k in range(len(z_robust3)):\n",
        "    fun.append( distance_calc(a0, b0, a1, b1, z_robust3[k], y_robust3[k], stereo_3)/yerr_robust3[k] )\n",
        "  \n",
        "  \n",
        "  return fun  \n"
      ],
      "execution_count": 12,
      "outputs": []
    },
    {
      "cell_type": "code",
      "metadata": {
        "colab_type": "code",
        "id": "eYNOh7VYTKsX",
        "colab": {}
      },
      "source": [
        "def fun2d(args):\n",
        "  # calculate a list of differences to be minimized by np.leastsq\n",
        "  a0, b0, a1, b1 = args\n",
        "\n",
        "  fun=[]\n",
        "\n",
        "  # x-z component\n",
        "  for k in range(len(z_robust0)):\n",
        "    fun.append((a0*z_robust0[k]+b0 - y_robust0[k])/yerr_robust0[k] )\n",
        "  \n",
        "\n",
        "  \n",
        "  return fun  \n"
      ],
      "execution_count": 13,
      "outputs": []
    },
    {
      "cell_type": "code",
      "metadata": {
        "colab_type": "code",
        "id": "LwReVlxZTP5h",
        "colab": {}
      },
      "source": [
        "def fun2d_nostereo(args):\n",
        "  # calculate a list of differences to be minimized by np.leastsq\n",
        "  a0, b0, a1, b1 = args\n",
        "\n",
        "  fun=[]\n",
        "\n",
        "  # x-z component\n",
        "  for k in range(len(z_robust0)):\n",
        "    fun.append((a0*z_robust0[k]+b0 - y_robust0[k])/yerr_robust0[k] )\n",
        "  \n",
        "  # y-z component\n",
        "  for k in range(len(z_robust1)):\n",
        "    fun.append( (a1*z_robust1[k]+b1 - y_robust1[k])/yerr_robust1[k] )\n",
        "  \n",
        "  \n",
        "  \n",
        "  return fun  \n"
      ],
      "execution_count": 14,
      "outputs": []
    },
    {
      "cell_type": "code",
      "metadata": {
        "id": "y_af0dDl1BwO",
        "colab_type": "code",
        "colab": {
          "base_uri": "https://localhost:8080/",
          "height": 69
        },
        "outputId": "6f7c8579-15ab-4139-e983-4e3140893d22"
      },
      "source": [
        "# fit 3d track\n",
        "\n",
        "par0 = [0., 0., 0., 0.]\n",
        "#fit using least_squares and print results\n",
        "result = least_squares(fun=chisq3d, x0 = par0, verbose=1, max_nfev=2000)\n",
        "print(result.x)\n"
      ],
      "execution_count": 15,
      "outputs": [
        {
          "output_type": "stream",
          "text": [
            "`ftol` termination condition is satisfied.\n",
            "Function evaluations 382, initial cost 6.9019e+07, final cost 7.3932e+02, first-order optimality 1.33e+00.\n",
            "[ 1.08277927 -0.01231473  1.09869596 -0.15942537]\n"
          ],
          "name": "stdout"
        }
      ]
    },
    {
      "cell_type": "code",
      "metadata": {
        "id": "84saL0_gUAR5",
        "colab_type": "code",
        "colab": {
          "base_uri": "https://localhost:8080/",
          "height": 225
        },
        "outputId": "2a495d1d-0a2e-4ac2-83e6-845613420015"
      },
      "source": [
        "#Fit 3d track\n",
        "# fit with leastsq and print results\n",
        "result, cov, infodict, errmsg, success = leastsq(fun3d, x0 = par0, full_output=1)\n",
        "\n",
        "print(result)\n",
        "print(cov)\n",
        "\n",
        "# Calculate the errors\n",
        "\n",
        "# From documentation:\n",
        "#    cov_x : ndarray\n",
        "#        Uses the fjac and ipvt optional outputs to construct an\n",
        "#        estimate of the jacobian around the solution. None if a\n",
        "#        singular matrix encountered (indicates very flat curvature in\n",
        "#        some direction).  This matrix must be multiplied by the\n",
        "#        residual variance to get the covariance of the\n",
        "#        parameter estimates -- see curve_fit.\n",
        "\n",
        "SSR = np.nansum(np.asarray(fun3d(result)) ** 2)\n",
        "dof = len(fun3d(result)) - len(par0)\n",
        "MSE = SSR / dof\n",
        "RMSE = np.sqrt(MSE)\n",
        "print('SSR = ', SSR)\n",
        "print('degree of freedom = ', dof)\n",
        "print('estimated mean square error = ', MSE)\n",
        "print('estimated root mean square error = ', RMSE)\n",
        "\n",
        "errors = np.sqrt(np.diagonal(cov)) * RMSE\n",
        "\n",
        "\n",
        "print(\"Fitted parameters:\")\n",
        "print(\"a0 = \",result[0],\" +- \",errors[0],\"  b0 = \",result[1],\" +- \",errors[1])\n",
        "print(\"a1 = \",result[2],\" +- \",errors[2],\"  b1 = \",result[3],\" +- \",errors[3])"
      ],
      "execution_count": 16,
      "outputs": [
        {
          "output_type": "stream",
          "text": [
            "[ 1.08277726 -0.01233307  1.0987617  -0.15968953]\n",
            "[[ 6.49634451e-04 -2.24580198e-03 -1.56744141e-04  1.12633952e-04]\n",
            " [-2.24580198e-03  1.13665079e-02 -5.03002176e-05  1.65483395e-04]\n",
            " [-1.56744141e-04 -5.03002176e-05  1.49653149e-03 -3.69959579e-03]\n",
            " [ 1.12633952e-04  1.65483395e-04 -3.69959579e-03  1.52521086e-02]]\n",
            "SSR =  38.45308790522113\n",
            "degree of freedom =  16\n",
            "estimated mean square error =  2.4033179940763207\n",
            "estimated root mean square error =  1.5502638466004168\n",
            "Fitted parameters:\n",
            "a0 =  1.0827772596690397  +-  0.03951301260507241   b0 =  -0.012333068621503586  +-  0.16527956030915594\n",
            "a1 =  1.098761703198562  +-  0.05997200223089675   b1 =  -0.15968953034203595  +-  0.19145669775072874\n"
          ],
          "name": "stdout"
        }
      ]
    }
  ]
}