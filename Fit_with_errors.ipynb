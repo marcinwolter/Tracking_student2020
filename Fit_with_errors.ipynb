{
  "nbformat": 4,
  "nbformat_minor": 0,
  "metadata": {
    "colab": {
      "name": "Fit_with_errors.ipynb",
      "provenance": [],
      "authorship_tag": "ABX9TyNsrISW8wxh6wU3Na8tV0fe",
      "include_colab_link": true
    },
    "kernelspec": {
      "name": "python3",
      "display_name": "Python 3"
    }
  },
  "cells": [
    {
      "cell_type": "markdown",
      "metadata": {
        "id": "view-in-github",
        "colab_type": "text"
      },
      "source": [
        "<a href=\"https://colab.research.google.com/github/marcinwolter/Tracking_student2020/blob/master/Fit_with_errors.ipynb\" target=\"_parent\"><img src=\"https://colab.research.google.com/assets/colab-badge.svg\" alt=\"Open In Colab\"/></a>"
      ]
    },
    {
      "cell_type": "code",
      "metadata": {
        "id": "IpibwDHiq8zA",
        "colab_type": "code",
        "colab": {
          "base_uri": "https://localhost:8080/",
          "height": 1000
        },
        "outputId": "24beb0a4-f610-4206-95df-5e732d6d8501"
      },
      "source": [
        "import numpy as np\n",
        "from numpy import *\n",
        "import pylab\n",
        "from scipy.optimize import curve_fit, least_squares\n",
        "from scipy import stats\n",
        "\n",
        "# get data\n",
        "! rm -fr cooltemp.da*\n",
        "! wget https://raw.githubusercontent.com/marcinwolter/Tracking_student2020/master/cooltemp.dat\n",
        "! cat cooltemp.dat\n",
        "fn = 'cooltemp.dat'\n",
        "x, y, xerr, yerr = loadtxt(fn,unpack=True, usecols=[0,1,2,3])\n",
        "yerr *= 1.\n",
        "print(\"yerr = \",yerr)\n",
        "\n",
        "\n",
        "## FIT ##\n",
        "print('Fit with f(x)=ax+b')\n",
        "def fit(x,a,b): \n",
        "     return a*x+b\n",
        "\n",
        "\n",
        "\n",
        "popt,pcov=curve_fit(fit,x,y,p0=(0.0,0.0),sigma=yerr, absolute_sigma=True) \n",
        "#The argument absolute_sigma=True is necessary. It says the values in sig are all literally the standard deviations and not \n",
        "#just relative weights for the data points. With this option the resulting chi square can be used to determine goodness of fit.\n",
        "\n",
        "a=popt[0]; err_a=np.sqrt(pcov[0,0])\n",
        "b=popt[1]; err_b=np.sqrt(pcov[1,1])\n",
        "print('a=',a,\"+/-\",err_a)\n",
        "print('b=',b,\"+/-\",err_b)\n",
        "\n",
        "def chi2(x,y,yerr,fit):\n",
        "  # Now calculate chi square \n",
        "  yexp = fit(x, *popt)\n",
        "  r = (y - yexp)/yerr\n",
        "  chisq = np.sum(r**2)\n",
        "  df = len(x) - 2\n",
        "  return chisq, df, r\n",
        "\n",
        "chisq, df, r = chi2(x,y,yerr,fit)\n",
        "\n",
        "# show results\n",
        "pn = poly1d(popt)\n",
        "\n",
        "# plot data and fit\n",
        "xx = linspace(0, max(x), 500)\n",
        "pylab.plot(xx, pn(xx),'-g')\n",
        "pylab.errorbar(x, y, yerr, xerr, fmt='r.')\n",
        "\n",
        "# customise graph\n",
        "pylab.legend(['linear','data'])\n",
        "pylab.axis([0,max(x),0,max(y)])\n",
        "pylab.xlabel('x label (unit)')\n",
        "pylab.ylabel('y label (unit)')\n",
        "\n",
        "pylab.show()\n",
        "\n",
        "\n",
        "# Hand-made robust fit - drop one single outlier\n",
        "# check chiqq/ndf\n",
        "chisq_limit = 4. # this is an arbitrary parameter, should be tuned\n",
        "if chisq/df>chisq_limit:\n",
        "\n",
        "    # Find outlier and remove it\n",
        "    # find point with the highest abs(r)\n",
        "    ii = np.where(r == np.amax(abs(r)))[0]\n",
        "    #ii = ii[0] \n",
        "    x_robust = np.delete(x,ii)\n",
        "    y_robust = np.delete(y,ii)\n",
        "    yerr_robust = np.delete(yerr,ii)\n",
        "    # repeat fit without outlier\n",
        "    popt,pcov=curve_fit(fit,x_robust,y_robust,p0=(0.0,0.0),sigma=yerr_robust, absolute_sigma=True)\n",
        "\n",
        "print(\" \")\n",
        "print(\"chisq =\",chisq,\"ndf =\",df)\n",
        "print(\"chisq/ndf =\",chisq/df)\n",
        "\n",
        "pn = poly1d(popt)\n",
        "\n",
        "# plot data and fit\n",
        "xx = linspace(0, max(x), 500)\n",
        "pylab.plot(xx, pn(xx),'-g')\n",
        "pylab.errorbar(x, y, yerr, xerr, fmt='r.')\n",
        "\n",
        "# customise graph\n",
        "pylab.legend(['linear','data'])\n",
        "pylab.axis([0,max(x),0,max(y)])\n",
        "pylab.xlabel('x label (unit)')\n",
        "pylab.ylabel('y label (unit)')\n",
        "\n",
        "pylab.show()"
      ],
      "execution_count": 12,
      "outputs": [
        {
          "output_type": "stream",
          "text": [
            "--2020-07-15 19:48:38--  https://raw.githubusercontent.com/marcinwolter/Tracking_student2020/master/cooltemp.dat\n",
            "Resolving raw.githubusercontent.com (raw.githubusercontent.com)... 151.101.0.133, 151.101.64.133, 151.101.128.133, ...\n",
            "Connecting to raw.githubusercontent.com (raw.githubusercontent.com)|151.101.0.133|:443... connected.\n",
            "HTTP request sent, awaiting response... 200 OK\n",
            "Length: 118 [text/plain]\n",
            "Saving to: ‘cooltemp.dat’\n",
            "\n",
            "\rcooltemp.dat          0%[                    ]       0  --.-KB/s               \rcooltemp.dat        100%[===================>]     118  --.-KB/s    in 0s      \n",
            "\n",
            "2020-07-15 19:48:39 (8.00 MB/s) - ‘cooltemp.dat’ saved [118/118]\n",
            "\n",
            " 0 0 0 0.75\n",
            " 1 0.5 0 .25\n",
            " 2 2.1 0 .25\n",
            " 3 3.7 0 0.5\n",
            " 4 4.2 0 0.75\n",
            " 5 4.6 0 .25\n",
            " 7 7.1 0 .5\n",
            " 3.5 9.5 0 0.1\n",
            " 6 6.6 0 0.1\n",
            "yerr =  [0.75 0.25 0.25 0.5  0.75 0.25 0.5  0.1  0.1 ]\n",
            "Fit with f(x)=ax+b\n",
            "a= 0.4406291636792596 +/- 0.03811474117350938\n",
            "b= 4.931930261341598 +/- 0.17649310174393795\n"
          ],
          "name": "stdout"
        },
        {
          "output_type": "display_data",
          "data": {
            "image/png": "[encoded data removed]",
            "text/plain": [
              "<Figure size 432x288 with 1 Axes>"
            ]
          },
          "metadata": {
            "tags": [],
            "needs_background": "light"
          }
        },
        {
          "output_type": "stream",
          "text": [
            " \n",
            "chisq = 1797.8380081851692 ndf = 7\n",
            "chisq/ndf = 256.8340011693099\n"
          ],
          "name": "stdout"
        },
        {
          "output_type": "display_data",
          "data": {
            "image/png": "[encoded data removed]",
            "text/plain": [
              "<Figure size 432x288 with 1 Axes>"
            ]
          },
          "metadata": {
            "tags": [],
            "needs_background": "light"
          }
        }
      ]
    }
  ]
}