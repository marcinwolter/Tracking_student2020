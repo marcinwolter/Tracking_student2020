{
  "nbformat": 4,
  "nbformat_minor": 0,
  "metadata": {
    "colab": {
      "name": "Fit_with_errors.ipynb",
      "provenance": [],
      "authorship_tag": "ABX9TyPScIVZA1UlSV/ExBUKrl/z",
      "include_colab_link": true
    },
    "kernelspec": {
      "name": "python3",
      "display_name": "Python 3"
    }
  },
  "cells": [
    {
      "cell_type": "markdown",
      "metadata": {
        "id": "view-in-github",
        "colab_type": "text"
      },
      "source": [
        "<a href=\"https://colab.research.google.com/github/marcinwolter/Tracking_student2020/blob/master/Fit_with_errors.ipynb\" target=\"_parent\"><img src=\"https://colab.research.google.com/assets/colab-badge.svg\" alt=\"Open In Colab\"/></a>"
      ]
    },
    {
      "cell_type": "code",
      "metadata": {
        "id": "IpibwDHiq8zA",
        "colab_type": "code",
        "colab": {
          "base_uri": "https://localhost:8080/",
          "height": 349
        },
        "outputId": "3abc0875-6cd4-4e72-f58d-1182af24a3d7"
      },
      "source": [
        "import numpy as np\n",
        "from numpy import *\n",
        "import pylab\n",
        "from scipy.optimize import curve_fit\n",
        "from scipy import stats\n",
        "\n",
        "# get data\n",
        "fn = 'cooltemp.dat'\n",
        "x, y, xerr, yerr = loadtxt(fn,unpack=True, usecols=[0,1,2,3])\n",
        "yerr *= 1.\n",
        "print(\"yerr = \",yerr)\n",
        "\n",
        "\n",
        "## FIT ##\n",
        "print('Fit with f(x)=ax+b')\n",
        "def fit(x,a,b): \n",
        "     return a*x+b\n",
        "\n",
        "popt,pcov=curve_fit(fit,x,y,p0=(0.0,0.0),sigma=yerr) \n",
        "a=popt[0]; err_a=np.sqrt(pcov[0,0])\n",
        "b=popt[1]; err_b=np.sqrt(pcov[1,1])\n",
        "print('a=',a,\"+/-\",err_a)\n",
        "print('b=',b,\"+/-\",err_b)\n",
        "\n",
        "pn = poly1d(popt)\n",
        "\n",
        "# plot data and fit\n",
        "xx = linspace(0, max(x), 500)\n",
        "pylab.plot(xx, pn(xx),'-g')\n",
        "pylab.errorbar(x, y, yerr, xerr, fmt='r.')\n",
        "\n",
        "# customise graph\n",
        "pylab.legend(['linear','data'])\n",
        "pylab.axis([0,max(x),0,max(y)])\n",
        "pylab.xlabel('x label (unit)')\n",
        "pylab.ylabel('y label (unit)')\n",
        "\n",
        "pylab.show()"
      ],
      "execution_count": 22,
      "outputs": [
        {
          "output_type": "stream",
          "text": [
            "yerr =  [0.3 0.1 0.1 0.2 0.3 0.1 0.2]\n",
            "Fit with f(x)=ax+b\n",
            "a= 1.0005293493939011 +/- 0.010850076927243293\n",
            "b= 0.03202564394632545 +/- 0.03825762257457479\n"
          ],
          "name": "stdout"
        },
        {
          "output_type": "display_data",
          "data": {
            "image/png": "[encoded data removed]",
            "text/plain": [
              "<Figure size 432x288 with 1 Axes>"
            ]
          },
          "metadata": {
            "tags": [],
            "needs_background": "light"
          }
        }
      ]
    }
  ]
}